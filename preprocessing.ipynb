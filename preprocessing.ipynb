{
 "cells": [
  {
   "cell_type": "code",
   "execution_count": 22,
   "metadata": {},
   "outputs": [],
   "source": [
    "import os\n",
    "import librosa\n",
    "import numpy as np\n",
    "from scipy.io import wavfile\n",
    "from matplotlib import pyplot as plt\n",
    "\n",
    "src = './Dataset/wav/'\n",
    "gender = 'female/'"
   ]
  },
  {
   "cell_type": "code",
   "execution_count": null,
   "metadata": {},
   "outputs": [],
   "source": [
    "sf, sd = wavfile.read(src+'male/arctic_a0001.wav')\n",
    "\n",
    "plt.specgram(sd[:sf],Fs=sf)\n",
    "\n",
    "plt.xlabel('Time')\n",
    "plt.ylabel('Frequency')\n",
    "\n",
    "plt.show()"
   ]
  },
  {
   "cell_type": "code",
   "execution_count": 24,
   "metadata": {},
   "outputs": [],
   "source": [
    "data = []\n",
    "test = []\n",
    "train = []\n",
    "\n",
    "dir = src + gender\n",
    "\n",
    "for f in os.listdir(dir):\n",
    "  sf, sd = wavfile.read(dir + f)\n",
    "\n",
    "  time = 1\n",
    "  length = len(sd)/sf\n",
    "\n",
    "  while time < length:\n",
    "    data.append(sd[(time-1)*sf:time*sf])\n",
    "    time += 1"
   ]
  },
  {
   "cell_type": "code",
   "execution_count": 25,
   "metadata": {},
   "outputs": [],
   "source": [
    "n = len(data)\n",
    "\n",
    "train = data[:int(0.6*n)]\n",
    "test = data[int(-0.4*n):]"
   ]
  },
  {
   "cell_type": "code",
   "execution_count": 26,
   "metadata": {},
   "outputs": [],
   "source": [
    "dst = './Dataset/' + gender\n",
    "\n",
    "os.makedirs(dst)\n",
    "\n",
    "np.save(dst + 'train.npy', train, allow_pickle=True)\n",
    "np.save(dst + 'test.npy', test, allow_pickle=True)"
   ]
  }
 ],
 "metadata": {
  "interpreter": {
   "hash": "31f2aee4e71d21fbe5cf8b01ff0e069b9275f58929596ceb00d14d90e3e16cd6"
  },
  "kernelspec": {
   "display_name": "Python 3.8.10 64-bit",
   "language": "python",
   "name": "python3"
  },
  "language_info": {
   "codemirror_mode": {
    "name": "ipython",
    "version": 3
   },
   "file_extension": ".py",
   "mimetype": "text/x-python",
   "name": "python",
   "nbconvert_exporter": "python",
   "pygments_lexer": "ipython3",
   "version": "3.8.10"
  },
  "orig_nbformat": 4
 },
 "nbformat": 4,
 "nbformat_minor": 2
}

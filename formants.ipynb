{
 "cells": [
  {
   "cell_type": "markdown",
   "metadata": {},
   "source": [
    "# Extract formants and fundamental frequency\n",
    "\n",
    "Requirements:  <br/>\n",
    "`pip install praat-parselmouth` (pip3 does not work)  <br/>\n",
    "`pip3 install pandas`  <br/>\n",
    "`pip3 install pydub`  <br/>\n",
    "`pip3 install seaborn`\n",
    "\n",
    "Tutorials / source code: \n",
    "- http://blog.syntheticspeech.de/2021/03/10/how-to-extract-formant-tracks-with-praat-and-python/ \n",
    "- https://github.com/drfeinberg/PraatScripts/blob/master/Measure%20Pitch%20and%20HNR.ipynb  "
   ]
  },
  {
   "cell_type": "code",
   "execution_count": null,
   "metadata": {},
   "outputs": [],
   "source": [
    "! pip install praat-parselmouth\n",
    "! pip3 install pandas\n",
    "! pip3 install pydub\n",
    "! pip3 install seaborn"
   ]
  },
  {
   "cell_type": "code",
   "execution_count": 1,
   "metadata": {},
   "outputs": [
    {
     "name": "stderr",
     "output_type": "stream",
     "text": [
      "/Users/anne/Desktop/VAE_Speech_Decomposition/speechTech/lib/python3.7/site-packages/pydub/utils.py:170: RuntimeWarning: Couldn't find ffmpeg or avconv - defaulting to ffmpeg, but may not work\n",
      "  warn(\"Couldn't find ffmpeg or avconv - defaulting to ffmpeg, but may not work\", RuntimeWarning)\n"
     ]
    }
   ],
   "source": [
    "import parselmouth \n",
    "from parselmouth import praat\n",
    "\n",
    "import math\n",
    "import pydub\n",
    "from pydub import AudioSegment\n",
    "\n",
    "from os import listdir\n",
    "from os.path import isfile, join\n",
    "import re\n",
    "\n",
    "import numpy as np \n",
    "\n",
    "import glob\n",
    "import pandas as pd\n",
    "\n",
    "import matplotlib.pyplot as plt\n",
    "import seaborn as sns"
   ]
  },
  {
   "cell_type": "code",
   "execution_count": 52,
   "metadata": {},
   "outputs": [],
   "source": [
    "## Split audios into chunks of appropriate duration \n",
    "\n",
    "class SplitWavAudio():\n",
    "    '''\n",
    "    Split sounds into smaller chunks\n",
    "    '''\n",
    "    def __init__(self, folder, filename):\n",
    "        self.folder = folder\n",
    "        self.new_folder = folder + '_cut'\n",
    "        self.filename = filename\n",
    "        self.filepath = folder + '/' + filename\n",
    "        \n",
    "        self.audio = AudioSegment.from_wav(self.filepath)\n",
    "    \n",
    "    def get_duration(self):\n",
    "        return self.audio.duration_seconds\n",
    "    \n",
    "    # def single_split(self, from_min, to_max, split_filename):\n",
    "    #     t1 = from_min * 1000\n",
    "    #     t2 = to_max * 1000\n",
    "    #     split_audio = self.audio[t1:t2]\n",
    "    #     split_audio.export(self.new_folder + '/' + split_filename, format=\"wav\")\n",
    "        \n",
    "    # def multiple_split(self, split_interval):\n",
    "    #     total_sec = math.floor(self.get_duration())\n",
    "    #     for i in range(0, total_sec, split_interval):\n",
    "    #         split_fn = str(i) + '_' + self.filename\n",
    "    #         self.single_split(i, i+split_interval, split_fn)\n",
    "    #         print(str(i) + ' Done')\n",
    "    #         if i == total_sec - split_interval:\n",
    "    #             print('All splited successfully')\n",
    "\n",
    "    def single_split(self, from_min, to_max):\n",
    "        t1 = from_min * 1000\n",
    "        t2 = to_max * 1000\n",
    "        split_audio = self.audio[t1:t2]\n",
    "        return split_audio\n",
    "    \n",
    "    def multiple_split(self, split_interval):\n",
    "        total_sec = math.floor(self.get_duration())\n",
    "        for i in range(0, total_sec, split_interval):\n",
    "            self.single_split(i, i+split_interval)\n",
    "            print(str(i) + ' Done')\n",
    "            if i == total_sec - split_interval:\n",
    "                print('All splited successfully')    \n",
    "\n",
    "    #def  oneSecSplit(self, split_interval):\n",
    "\n",
    "\n",
    "def folder_split(folder, split_interval=1):\n",
    "    '''\n",
    "    Apply SplitWavAudio methods to a directory's files\n",
    "    '''\n",
    "    for f in listdir(folder):\n",
    "        if isfile(join(folder, f)) and re.match(r'(.)*\\.wav\\b', f):\n",
    "            split_wav = SplitWavAudio(folder, f)\n",
    "            split_wav.multiple_split(split_interval)  \n",
    "\n",
    "\n",
    "\n",
    "## Extract formants    \n",
    "\n",
    "def extract_formants(sound_file, gender):\n",
    "    '''\n",
    "    Extract 3 first formants with Praat's functions thanks to Python's parselmouth\n",
    "    '''\n",
    "    time_step = 0.0025 # time between the centres of consecutive analysis frames \n",
    "    max_nb_formants = 5 # number of formants extracted per frame\n",
    "    # formant_ceiling: maximum frequency of the formant search range, in Hertz\n",
    "    window_length = 0.025 # duration of the analysis window (s)\n",
    "    pre_emphasis = 50\n",
    "    \n",
    "    if gender == 'male':\n",
    "        f0min = 100\n",
    "        f0max = 150\n",
    "        formant_ceiling = 5000 # An average adult male speaker has a vocal tract length that requires an average ceiling of 5000 Hz\n",
    "        \n",
    "    else: # gender == 'female'\n",
    "        f0min = 200\n",
    "        f0max = 300\n",
    "        formant_ceiling = 5500 # An average adult female speaker has a vocal tract length that requires an average ceiling of 5500 Hz \n",
    "    \n",
    "    # Transform  the file into a parselmouth object sound\n",
    "    sound = parselmouth.Sound(sound_file) \n",
    "\n",
    "    # First, compute the occurrences of periodic instances in the signal:\n",
    "    pointProcess = praat.call(sound, \"To PointProcess (periodic, cc)\", f0min, f0max)\n",
    "\n",
    "    # Then, compute the formants: \n",
    "    formants = praat.call(sound, \"To Formant (burg)\", time_step, max_nb_formants, formant_ceiling, window_length, pre_emphasis) \n",
    "\n",
    "    # And finally assign formant values with times where they make sense (periodic instances):\n",
    "    numPoints = praat.call(pointProcess, \"Get number of points\")\n",
    "    f1_list = []\n",
    "    f2_list = []\n",
    "    f3_list = []\n",
    "    for point in range(0, numPoints):\n",
    "        point += 1\n",
    "        t = praat.call(pointProcess, \"Get time from index\", point)\n",
    "        f1 = praat.call(formants, \"Get value at time\", 1, t, 'Hertz', 'Linear')\n",
    "        f2 = praat.call(formants, \"Get value at time\", 2, t, 'Hertz', 'Linear')\n",
    "        f3 = praat.call(formants, \"Get value at time\", 3, t, 'Hertz', 'Linear')\n",
    "        f1_list.append(f1)\n",
    "        f2_list.append(f2)\n",
    "        f3_list.append(f3)\n",
    "\n",
    "    # Create a matrix of formants \n",
    "    formant_tuple = (np.array(f1_list), np.array(f2_list), np.array(f3_list))\n",
    "    formant = np.vstack(formant_tuple)\n",
    "    formant = formant[~np.isnan(formant)] # We should check that nan values appear in the same places \n",
    "    \n",
    "    return formant\n",
    "\n",
    "\n",
    "def folder_formants_init(folder, gender):\n",
    "    '''\n",
    "    folder: directory containing .wav files with the right duration\n",
    "    new_file: name of the file where the results are stored in a matrix format: for each recording[f1_list, f2_list, f3_list]\n",
    "    '''\n",
    "    init = True\n",
    "    for f in listdir(folder):\n",
    "        if isfile(join(folder, f)) and re.match(r'(.)*\\.wav\\b', f):\n",
    "            file_path = folder + '/' + f\n",
    "            if init: \n",
    "                formants = extract_formants(file_path, gender)\n",
    "                init = False\n",
    "            else:  \n",
    "                formants = extract_formants(file_path, gender)\n",
    "            with open(folder + '.csv','a') as fd:\n",
    "                fd.write(np.array2string(formants))  \n",
    "\n",
    "\n",
    "def folder_formants(folder, gender):\n",
    "    '''\n",
    "    folder: directory containing .wav files with the right duration\n",
    "    '''\n",
    "    # Create lists to put the results\n",
    "    file_list = []\n",
    "    formants_list = []\n",
    "\n",
    "    # Go through all the wave files in the folder and measure pitch\n",
    "    for wave_file in glob.glob(folder + '/*.wav'):\n",
    "        formants = extract_formants(wave_file, gender)\n",
    "        file_list.append(wave_file) # make an ID list\n",
    "        formants_list.append(formants) # f0\n",
    "\n",
    "    with open('formants_' + gender + '.csv','a') as fd:\n",
    "            fd.write(str(list(zip(file_list, formants_list))))"
   ]
  },
  {
   "cell_type": "markdown",
   "metadata": {},
   "source": [
    "Here we measure mean values."
   ]
  },
  {
   "cell_type": "code",
   "execution_count": null,
   "metadata": {},
   "outputs": [],
   "source": [
    "## Measure pitch of all wav files in directory\n",
    "\n",
    "def measureMeanPitch(voiceID, f0min, f0max, unit): \n",
    "    '''\n",
    "    Measure voice pitch\n",
    "    '''\n",
    "    sound = parselmouth.Sound(voiceID) # read the sound\n",
    "    pitch = praat.call(sound, \"To Pitch\", 0.0, f0min, f0max) # create a praat pitch object\n",
    "    meanF0 = praat.call(pitch, \"Get mean\", 0, 0, unit) # get mean pitch\n",
    "    stdevF0 = praat.call(pitch, \"Get standard deviation\", 0 ,0, unit) # get standard deviation\n",
    "    harmonicity = praat.call(sound, \"To Harmonicity (cc)\", 0.01, 75, 0.1, 1.0)\n",
    "    hnr = praat.call(harmonicity, \"Get mean\", 0, 0) # get harmonics to noise ratio \n",
    "\n",
    "    return meanF0, stdevF0, hnr\n",
    "\n",
    "def meanPitchList(folder, gender): \n",
    "    # Create lists to put the results\n",
    "    file_list = []\n",
    "    mean_F0_list = []\n",
    "    sd_F0_list = []\n",
    "    hnr_list = []\n",
    "\n",
    "    # Go through all the wave files in the folder and measure pitch\n",
    "    for wave_file in glob.glob(folder + '/*.wav'):\n",
    "        sound = parselmouth.Sound(wave_file)\n",
    "        (meanF0, stdevF0, hnr) = measureMeanPitch(sound, 75, 500, \"Hertz\")\n",
    "        file_list.append(wave_file) # make an ID list\n",
    "        mean_F0_list.append(meanF0) # make a mean F0 list\n",
    "        sd_F0_list.append(stdevF0) # make a sd F0 list\n",
    "        hnr_list.append(hnr)\n",
    "\n",
    "    df = pd.DataFrame(np.column_stack([file_list, mean_F0_list, sd_F0_list, hnr_list]), \n",
    "                                columns=['voiceID', 'meanF0Hz', 'stdevF0Hz', 'HNR'])  #add these lists to pandas in the right order\n",
    "\n",
    "    # Write out the updated dataframe\n",
    "    df.to_csv('processed_results_' + gender + '.csv', index=False)"
   ]
  },
  {
   "cell_type": "markdown",
   "metadata": {},
   "source": [
    "Here we want to have the evolution of the pitch contour with time.\n",
    "\n",
    "https://zuker.io/articles/2019-07/parselmouth-contour \n"
   ]
  },
  {
   "cell_type": "code",
   "execution_count": 40,
   "metadata": {},
   "outputs": [],
   "source": [
    "# Draw pitch \n",
    "def measurePitch(voiceID, gender, unit='Hertz'): \n",
    "    '''\n",
    "    Measure voice pitch\n",
    "    '''\n",
    "    if gender == 'male':\n",
    "        f0min = 50\n",
    "        f0max = 200 \n",
    "        \n",
    "    else: # gender == 'female'\n",
    "        f0min = 150\n",
    "        f0max = 350\n",
    "    \n",
    "    sound = parselmouth.Sound(voiceID) # read the sound\n",
    "    pitch = praat.call(sound, \"To Pitch\", 0.0, f0min, f0max) # create a praat pitch object\n",
    "\n",
    "    return pitch \n",
    "\n",
    "def pitchList(folder, gender): \n",
    "    # Create lists to put the results\n",
    "    file_list = []\n",
    "    pitch_list = []\n",
    "\n",
    "    # Go through all the wave files in the folder and measure pitch\n",
    "    for wave_file in glob.glob(folder + '/*.wav'):\n",
    "        pitch = measurePitch(wave_file, gender)\n",
    "        pitch_values = pitch.selected_array['frequency']\n",
    "        file_list.append(wave_file) # make an ID list\n",
    "        pitch_list.append(pitch_values) # f0\n",
    "\n",
    "    with open('pitch_contour_' + gender + '.csv','a') as fd:\n",
    "                fd.write(str(list(zip(file_list, pitch_list))))\n",
    "                \n",
    "\n",
    "## Visualisation \n",
    "\n",
    "def plotOnGraph(pitch, color):\n",
    "    pitch_values = pitch.selected_array['frequency']\n",
    "    pitch_values[pitch_values==0] = np.nan\n",
    "    plt.plot(pitch.xs(), pitch_values, 'o', markersize=2.5, color=color)\n",
    "    \n",
    "def setupGraph(ymin, ymax):\n",
    "    sns.set() # Use seaborn's default style to make attractive graphs\n",
    "    plt.rcParams['figure.dpi'] = 150 # Show images nicely\n",
    "    plt.figure()\n",
    "    plt.ylim(ymin, ymax)\n",
    "    plt.ylabel(\"frequency [Hz]\")\n",
    "    plt.xlabel(\"seconds\")\n",
    "    plt.grid(True)\n"
   ]
  },
  {
   "cell_type": "code",
   "execution_count": 38,
   "metadata": {},
   "outputs": [
    {
     "data": {
      "image/png": "[encoded data removed]",
      "text/plain": [
       "<Figure size 900x600 with 1 Axes>"
      ]
     },
     "metadata": {},
     "output_type": "display_data"
    }
   ],
   "source": [
    "# Example of pitch contour\n",
    "pitch1 = measurePitch('Dataset/wav/female_cut/0_arctic_a0008.wav', 'female', unit='Hertz') \n",
    "\n",
    "setupGraph(50, 375)\n",
    "plotOnGraph(pitch1, 'r')\n",
    "plt.gca().legend((''))\n",
    "plt.show()"
   ]
  },
  {
   "cell_type": "code",
   "execution_count": null,
   "metadata": {},
   "outputs": [],
   "source": [
    "def specToAudio(x):\n",
    "    return librosa.griffinlim(x)"
   ]
  },
  {
   "cell_type": "markdown",
   "metadata": {},
   "source": [
    "### Extract formants"
   ]
  },
  {
   "cell_type": "code",
   "execution_count": 55,
   "metadata": {},
   "outputs": [],
   "source": [
    "# Create the directory female_cut if it does not exist already. \n",
    "repository = 'Dataset/wav/female' \n",
    "chunks_repository = repository + '_cut'\n",
    "\n",
    "if not os.path.exists(chunks_repository):\n",
    "    os.makedirs(chunks_repository)\n",
    "    folder_split(repository, split_interval=1)\n",
    "\n",
    "# Save lists of formants of all the files in the repository in a csv file. Note that lists of formants don't have the same length necessarily (some look empty?)\n",
    "folder_formants(chunks_repository, 'female')"
   ]
  },
  {
   "cell_type": "code",
   "execution_count": 59,
   "metadata": {},
   "outputs": [],
   "source": [
    "# Create the directory male_cut if it does not already exist. \n",
    "repository = 'Dataset/wav/male'\n",
    "chunks_repository = repository + '_cut'\n",
    "if not os.path.exists(chunks_repository):\n",
    "    os.makedirs(chunks_repository)\n",
    "    folder_split(repository , split_interval=1)\n",
    "\n",
    "# Save lists of formants of all the files in the repository in a csv file. Note that lists of formants don't have the same length necessarily (some look empty?)\n",
    "folder_formants(chunks_repository, 'male')"
   ]
  },
  {
   "cell_type": "markdown",
   "metadata": {},
   "source": [
    "### Extract fundamental frequency and pitch-related information"
   ]
  },
  {
   "cell_type": "markdown",
   "metadata": {},
   "source": [
    "Below, code to get mean values."
   ]
  },
  {
   "cell_type": "code",
   "execution_count": 6,
   "metadata": {},
   "outputs": [],
   "source": [
    "# Female voices\n",
    "repository = 'Dataset/wav/female_cut'\n",
    "meanPitchList(repository, 'female')\n",
    "\n",
    "# Male voices\n",
    "repository = 'Dataset/wav/male_cut'\n",
    "meanPitchList(repository, 'male')"
   ]
  },
  {
   "cell_type": "markdown",
   "metadata": {},
   "source": [
    "Code to get pitch contour."
   ]
  },
  {
   "cell_type": "code",
   "execution_count": 42,
   "metadata": {},
   "outputs": [],
   "source": [
    "repository = 'Dataset/wav/female_cut'\n",
    "pitchList(repository, 'female')\n",
    "\n",
    "# Male voices\n",
    "repository = 'Dataset/wav/male_cut'\n",
    "pitchList(repository, 'male')"
   ]
  }
 ],
 "metadata": {
  "interpreter": {
   "hash": "89865a72347e01779ff64615d3139ccfe9e451b1d6a33d84f751613ed317bb96"
  },
  "kernelspec": {
   "display_name": "Python 3.7.9 ('fishingderby')",
   "language": "python",
   "name": "python3"
  },
  "language_info": {
   "codemirror_mode": {
    "name": "ipython",
    "version": 3
   },
   "file_extension": ".py",
   "mimetype": "text/x-python",
   "name": "python",
   "nbconvert_exporter": "python",
   "pygments_lexer": "ipython3",
   "version": "3.7.9"
  },
  "orig_nbformat": 4
 },
 "nbformat": 4,
 "nbformat_minor": 2
}
